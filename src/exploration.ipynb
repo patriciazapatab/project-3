{
 "cells": [
  {
   "cell_type": "code",
   "execution_count": 10,
   "metadata": {},
   "outputs": [],
   "source": [
    "#Import needed libraries "
   ]
  },
  {
   "cell_type": "code",
   "execution_count": 11,
   "metadata": {},
   "outputs": [],
   "source": [
    "import requests\n",
    "import json\n",
    "import pandas as pd\n",
    "from getpass import getpass"
   ]
  },
  {
   "cell_type": "code",
   "execution_count": 12,
   "metadata": {},
   "outputs": [],
   "source": [
    "#Connect to MongoDB\n",
    "\n",
    "import pymongo\n",
    "client = pymongo.MongoClient(\"localhost:27017\")\n",
    "db = client[\"London\"]\n",
    "c = db.get_collection(\"companies\")"
   ]
  },
  {
   "cell_type": "code",
   "execution_count": 13,
   "metadata": {
    "scrolled": true
   },
   "outputs": [
    {
     "name": "stdout",
     "output_type": "stream",
     "text": [
      "City Count\n",
      "San Francisco    906\n",
      "New York         837\n",
      "                 646\n",
      "London           616\n",
      "Seattle          221\n",
      "Name: count, dtype: int64\n"
     ]
    }
   ],
   "source": [
    "#Search for cities and their count on the database to choose a city with multiple data\n",
    "\n",
    "list_ = list(c.find(projection= { \"_id\":0, \"offices.city\":1}))\n",
    "city_count = []\n",
    "for company in list_:\n",
    "    for office in company[\"offices\"]:\n",
    "        city_count.append(office[\"city\"])     \n",
    "\n",
    "count = pd.Series(city_count).value_counts()\n",
    "print(\"City Count\")\n",
    "print(count.head())"
   ]
  },
  {
   "cell_type": "code",
   "execution_count": 14,
   "metadata": {},
   "outputs": [],
   "source": [
    "#Checking existing categories to see what can we filter on \n",
    "list_ = list(c.find(projection= { \"_id\":0, \"category_code\":1}))\n",
    "category_count = []\n",
    "for companies in list_:\n",
    "    category_count.append(companies[\"category_code\"])     \n",
    "\n",
    "count = pd.Series(category_count).value_counts()\n",
    "\n",
    "##Decision: Using desing and games_video categories"
   ]
  },
  {
   "cell_type": "code",
   "execution_count": 15,
   "metadata": {},
   "outputs": [
    {
     "data": {
      "text/plain": [
       "[{'name': '99designs',\n",
       "  'category_code': 'design',\n",
       "  'offices': [{'city': 'San Francisco'},\n",
       "   {'city': 'Collingwood'},\n",
       "   {'city': 'Berlin'}]},\n",
       " {'name': 'Graticle',\n",
       "  'category_code': 'design',\n",
       "  'offices': [{'city': 'Ellensburg'}]},\n",
       " {'name': 'Kickstarter',\n",
       "  'category_code': 'design',\n",
       "  'offices': [{'city': 'Brooklyn'}]},\n",
       " {'name': 'Moonfruit',\n",
       "  'category_code': 'design',\n",
       "  'offices': [{'city': 'London'}]}]"
      ]
     },
     "execution_count": 15,
     "metadata": {},
     "output_type": "execute_result"
    }
   ],
   "source": [
    "#Searching for the location of the design companies\n",
    "condition_1 = {\"category_code\": \"design\"}\n",
    "projection = {\"_id\":0, \"name\":1, \"category_code\":1, \"offices.city\":1}\n",
    "list(c.find(condition_1, projection))"
   ]
  },
  {
   "cell_type": "code",
   "execution_count": 16,
   "metadata": {},
   "outputs": [
    {
     "name": "stdout",
     "output_type": "stream",
     "text": [
      "Category Count\n",
      "New York         75\n",
      "San Francisco    69\n",
      "                 54\n",
      "London           37\n",
      "Los Angeles      31\n",
      "Name: count, dtype: int64\n"
     ]
    }
   ],
   "source": [
    "#Checking that the distribution of companies of design and games_video is similar to all companies --> NY, SF and London as finalists\n",
    "condition_2 = {\"category_code\": {\"$in\": [\"design\", \"games_video\"]}}\n",
    "projection = {\"_id\":0, \"name\":1, \"category_code\":1, \"offices.city\":1}\n",
    "category_list = list(c.find(condition_2, projection))\n",
    "\n",
    "category_city = []\n",
    "for company in category_list:\n",
    "    for office in company[\"offices\"]:\n",
    "        category_city.append(office[\"city\"])\n",
    "        \n",
    "count = pd.Series(category_city).value_counts()\n",
    "print(\"Category Count\")\n",
    "print(count.head())"
   ]
  },
  {
   "cell_type": "code",
   "execution_count": 17,
   "metadata": {
    "scrolled": true
   },
   "outputs": [
    {
     "data": {
      "text/plain": [
       "[{'name': 'Babelgum',\n",
       "  'category_code': 'games_video',\n",
       "  'founded_year': 2007,\n",
       "  'funding_rounds': [{'raised_amount': 13200000}],\n",
       "  'offices': [{'city': 'London',\n",
       "    'latitude': 53.344104,\n",
       "    'longitude': -6.267494}]},\n",
       " {'name': 'Playfish',\n",
       "  'category_code': 'games_video',\n",
       "  'founded_year': 2007,\n",
       "  'funding_rounds': [{'raised_amount': 3000000},\n",
       "   {'raised_amount': 1000000},\n",
       "   {'raised_amount': 17000000}],\n",
       "  'offices': [{'city': 'London',\n",
       "    'latitude': 51.4991094,\n",
       "    'longitude': -0.1984802},\n",
       "   {'city': 'TromsÃ¸', 'latitude': 69.636216, 'longitude': 18.931062}]},\n",
       " {'name': 'Pikum',\n",
       "  'category_code': 'games_video',\n",
       "  'founded_year': 2007,\n",
       "  'funding_rounds': [{'raised_amount': 650000}, {'raised_amount': 5270000}],\n",
       "  'offices': [{'city': 'London',\n",
       "    'latitude': 51.539778,\n",
       "    'longitude': -0.152998}]},\n",
       " {'name': 'MUBI',\n",
       "  'category_code': 'games_video',\n",
       "  'founded_year': 2007,\n",
       "  'funding_rounds': [{'raised_amount': 750000},\n",
       "   {'raised_amount': 2400000},\n",
       "   {'raised_amount': 5095630}],\n",
       "  'offices': [{'city': 'Palo Alto',\n",
       "    'latitude': 37.44236,\n",
       "    'longitude': -122.161025},\n",
       "   {'city': 'London', 'latitude': None, 'longitude': None}]},\n",
       " {'name': 'WorldTV',\n",
       "  'category_code': 'games_video',\n",
       "  'founded_year': 2006,\n",
       "  'funding_rounds': [{'raised_amount': 1000000}],\n",
       "  'offices': [{'city': 'Limerick',\n",
       "    'latitude': 52.6638571,\n",
       "    'longitude': -8.6267726},\n",
       "   {'city': 'London', 'latitude': 51.5001524, 'longitude': -0.1262362}]},\n",
       " {'name': 'goviral',\n",
       "  'category_code': 'games_video',\n",
       "  'founded_year': 2005,\n",
       "  'funding_rounds': [{'raised_amount': 8820000}],\n",
       "  'offices': [{'city': 'London', 'latitude': None, 'longitude': None},\n",
       "   {'city': 'Copenhagen K', 'latitude': None, 'longitude': None},\n",
       "   {'city': 'München', 'latitude': None, 'longitude': None},\n",
       "   {'city': 'Paris', 'latitude': None, 'longitude': None}]},\n",
       " {'name': 'Preview Networks',\n",
       "  'category_code': 'games_video',\n",
       "  'founded_year': 2004,\n",
       "  'funding_rounds': [{'raised_amount': 4000000}],\n",
       "  'offices': [{'city': 'Copenhagen',\n",
       "    'latitude': 55.6659813,\n",
       "    'longitude': 12.5800751},\n",
       "   {'city': 'London', 'latitude': None, 'longitude': None},\n",
       "   {'city': 'Berlin', 'latitude': None, 'longitude': None},\n",
       "   {'city': 'Paris', 'latitude': None, 'longitude': None},\n",
       "   {'city': 'Milan', 'latitude': None, 'longitude': None},\n",
       "   {'city': 'Stockholm', 'latitude': None, 'longitude': None}]},\n",
       " {'name': 'Moonfruit',\n",
       "  'category_code': 'design',\n",
       "  'founded_year': 2000,\n",
       "  'funding_rounds': [{'raised_amount': 2250000}, {'raised_amount': None}],\n",
       "  'offices': [{'city': 'London', 'latitude': None, 'longitude': None}]},\n",
       " {'name': 'Wazoo Sports',\n",
       "  'category_code': 'games_video',\n",
       "  'founded_year': None,\n",
       "  'funding_rounds': [{'raised_amount': 2000000}],\n",
       "  'offices': [{'city': 'London', 'latitude': 37.1286, 'longitude': -84.0834}]}]"
      ]
     },
     "execution_count": 17,
     "metadata": {},
     "output_type": "execute_result"
    }
   ],
   "source": [
    "#Adding conditions to get a finalists list\n",
    "condition_category = {\"category_code\": {\"$in\": [\"design\", \"games_video\"]}}\n",
    "condition_city = {\"offices.city\": \"London\"}\n",
    "condition_raised_amount = {\"funding_rounds.raised_amount\": {\"$gte\": 1000000}}\n",
    "projection = {\"_id\":0, \"name\":1, \"category_code\":1, \"offices.city\":1, \"funding_rounds.raised_amount\":1, \"founded_year\":1, \"offices.longitude\":1, \"offices.latitude\":1}\n",
    "finalists = list(c.find({\"$and\": [condition_category, condition_city,condition_raised_amount]}, projection).sort(\"founded_year\",-1))\n",
    "finalists"
   ]
  },
  {
   "cell_type": "code",
   "execution_count": 18,
   "metadata": {},
   "outputs": [
    {
     "name": "stdout",
     "output_type": "stream",
     "text": [
      "     Company  Latitude  Longitude    Category\n",
      "    Babelgum 53.344104  -6.267494 games_video\n",
      "    Playfish 51.499109  -0.198480 games_video\n",
      "       Pikum 51.539778  -0.152998 games_video\n",
      "     WorldTV 51.500152  -0.126236 games_video\n",
      "Wazoo Sports 37.128600 -84.083400 games_video\n"
     ]
    }
   ],
   "source": [
    "#Df of final results that might be a good fit for the company offices \n",
    "data = []\n",
    "for company in finalists:\n",
    "    name = company[\"name\"]\n",
    "    category = company[\"category_code\"]\n",
    "    offices = company.get(\"offices\", [])\n",
    "    for office in offices:\n",
    "        city = office.get(\"city\", \"\")\n",
    "        latitude = office.get(\"latitude\", None)\n",
    "        longitude = office.get(\"longitude\", None)\n",
    "        if city == \"London\" and latitude is not None and longitude is not None:\n",
    "            data.append({\"Company\": name, \"Latitude\": latitude, \"Longitude\": longitude, \"Category\": category})\n",
    "\n",
    "df = pd.DataFrame(data)\n",
    "print(df.to_string(index=False))"
   ]
  },
  {
   "cell_type": "code",
   "execution_count": 19,
   "metadata": {},
   "outputs": [],
   "source": [
    "#Babelgum in Ireland\n",
    "#WorldTV and Kublax same location\n",
    "#Wazoo Sports in Pittsburg, USA \n",
    "\n",
    "#Choosen companies: \n",
    "    #Playfish\n",
    "    #Pikum\n",
    "    #WorldTV\n",
    "    "
   ]
  },
  {
   "cell_type": "code",
   "execution_count": 20,
   "metadata": {},
   "outputs": [],
   "source": [
    "#Companies are placed in Camden, Kensington and Westminster, we will check their sorroundings to decide."
   ]
  }
 ],
 "metadata": {
  "kernelspec": {
   "display_name": "ironhack",
   "language": "python",
   "name": "ironhack"
  },
  "language_info": {
   "codemirror_mode": {
    "name": "ipython",
    "version": 3
   },
   "file_extension": ".py",
   "mimetype": "text/x-python",
   "name": "python",
   "nbconvert_exporter": "python",
   "pygments_lexer": "ipython3",
   "version": "3.11.5"
  }
 },
 "nbformat": 4,
 "nbformat_minor": 2
}
