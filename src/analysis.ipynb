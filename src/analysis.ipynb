{
 "cells": [
  {
   "cell_type": "code",
   "execution_count": 13,
   "id": "4d403c61",
   "metadata": {},
   "outputs": [],
   "source": [
    "import pandas as pd\n",
    "\n",
    "import pymongo\n",
    "client = pymongo.MongoClient(\"localhost:27017\")\n",
    "db = client[\"London\"]"
   ]
  },
  {
   "cell_type": "code",
   "execution_count": 14,
   "id": "3cdd3249",
   "metadata": {},
   "outputs": [],
   "source": [
    "londonneigh = db.get_collection(\"londonneigh\")"
   ]
  },
  {
   "cell_type": "code",
   "execution_count": 15,
   "id": "938270a3",
   "metadata": {},
   "outputs": [],
   "source": [
    "#Function that iterates over the venues collections and the london neighborhoods collection containing polygons\n",
    "# the function is used to find the number of venues in each neighborhood\n",
    "# a df is created with the results of the crossing"
   ]
  },
  {
   "cell_type": "code",
   "execution_count": 16,
   "id": "1ee4342f",
   "metadata": {
    "scrolled": true
   },
   "outputs": [],
   "source": [
    "def venues_london_df ():\n",
    "    \n",
    "    new_list = []\n",
    "    venues = [\"london_party\", \"london_schools\",\"london_starbucks\", \"london_dogsaloon\", \"london_vegans\"]\n",
    "    neighborhoods = [\"Camden\", \"Wesminster\", \"Kensington and Chelsea\"]\n",
    "    \n",
    "    # 1. Loop every venue collection\n",
    "    for venue in venues:\n",
    "        venues_connection = db.get_collection(venue)\n",
    "        \n",
    "        # 2. Loop the neighborhoods\n",
    "        for n in neighborhoods:\n",
    "            londonneigh = db.get_collection(\"londonneigh\")\n",
    "            neighborhood_polygon = londonneigh.find_one({\"properties.name\": n})\n",
    "            \n",
    "            if neighborhood_polygon:\n",
    "                results = list(venues_connection.find({\n",
    "                    \"location\": {\n",
    "                        \"$geoWithin\": {\n",
    "                            \"$geometry\": neighborhood_polygon[\"geometry\"]\n",
    "                        }\n",
    "                    }\n",
    "                }))\n",
    "                \n",
    "\n",
    "                if results:\n",
    "                    for i in results:\n",
    "                        dict_ = {\n",
    "                            \"Venue name\": i[\"name\"],\n",
    "                            \"Category\": venue,\n",
    "                            \"Lat\": i[\"location\"][1],\n",
    "                            \"Lon\": i[\"location\"][0],\n",
    "                            \"Neighborhood\": n,\n",
    "                        }\n",
    "\n",
    "                        new_list.append(dict_)\n",
    "\n",
    "    # Create a DataFrame from the result\n",
    "    df = pd.DataFrame(new_list)\n",
    "\n",
    "    return df"
   ]
  },
  {
   "cell_type": "code",
   "execution_count": 17,
   "id": "9c5c27e4",
   "metadata": {},
   "outputs": [],
   "source": [
    "#Clean and analyse the df to extract conclusions"
   ]
  },
  {
   "cell_type": "code",
   "execution_count": 21,
   "id": "f3c1e83d",
   "metadata": {
    "scrolled": true
   },
   "outputs": [],
   "source": [
    "df = venues_london_df()\n",
    "df = df.drop_duplicates()"
   ]
  },
  {
   "cell_type": "code",
   "execution_count": 26,
   "id": "b88e9130",
   "metadata": {},
   "outputs": [],
   "source": [
    "df.to_csv(\"venues_london\", sep=',', index=False, encoding='utf-8')"
   ]
  },
  {
   "cell_type": "code",
   "execution_count": 25,
   "id": "a71dd4a3",
   "metadata": {
    "scrolled": true
   },
   "outputs": [
    {
     "name": "stdout",
     "output_type": "stream",
     "text": [
      "Neighborhood      Camden  Kensington and Chelsea  Wesminster\n",
      "Category                                                    \n",
      "london_party          47                      35          32\n",
      "london_schools        49                      44          46\n",
      "london_starbucks       2                       1           2\n",
      "london_vegans         15                      12          10\n"
     ]
    }
   ],
   "source": [
    "category_count = df.groupby([\"Category\", \"Neighborhood\"]).size().reset_index(name=\"Count\")\n",
    "\n",
    "# Pivot the table to get a proper format\n",
    "category_count_table = category_count.pivot(index=\"Category\", columns=\"Neighborhood\", values=\"Count\")\n",
    "category_count_table = category_count_table.astype(int)\n",
    "\n",
    "# Print the result\n",
    "print(category_count_table)"
   ]
  },
  {
   "cell_type": "code",
   "execution_count": null,
   "id": "2192408d",
   "metadata": {},
   "outputs": [],
   "source": [
    "#With the pivot table we observe the count of each venue in each neighborhood. \n",
    "#Due to excelling in all criterias, camden is chosen as the ideal neighborhood to locate the new offices"
   ]
  }
 ],
 "metadata": {
  "kernelspec": {
   "display_name": "ironhack",
   "language": "python",
   "name": "ironhack"
  },
  "language_info": {
   "codemirror_mode": {
    "name": "ipython",
    "version": 3
   },
   "file_extension": ".py",
   "mimetype": "text/x-python",
   "name": "python",
   "nbconvert_exporter": "python",
   "pygments_lexer": "ipython3",
   "version": "3.11.5"
  }
 },
 "nbformat": 4,
 "nbformat_minor": 5
}
