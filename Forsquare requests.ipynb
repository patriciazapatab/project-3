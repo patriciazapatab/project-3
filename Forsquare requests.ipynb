{
 "cells": [
  {
   "cell_type": "code",
   "execution_count": 1,
   "id": "7f89bc8d",
   "metadata": {},
   "outputs": [],
   "source": [
    "# Requests to 4square"
   ]
  },
  {
   "cell_type": "code",
   "execution_count": 16,
   "id": "93ec9d9f",
   "metadata": {},
   "outputs": [],
   "source": [
    "import requests\n",
    "import json\n",
    "import pandas as pd\n",
    "from getpass import getpass"
   ]
  },
  {
   "cell_type": "code",
   "execution_count": 17,
   "id": "b6757d27",
   "metadata": {},
   "outputs": [
    {
     "data": {
      "text/plain": [
       "True"
      ]
     },
     "execution_count": 17,
     "metadata": {},
     "output_type": "execute_result"
    }
   ],
   "source": [
    "import os\n",
    "from dotenv import load_dotenv\n",
    "load_dotenv()"
   ]
  },
  {
   "cell_type": "code",
   "execution_count": 18,
   "id": "39f9f564",
   "metadata": {},
   "outputs": [],
   "source": [
    "token = os.getenv(\"token\")"
   ]
  },
  {
   "cell_type": "code",
   "execution_count": 19,
   "id": "468fb017",
   "metadata": {},
   "outputs": [],
   "source": [
    "#Connect to MongoDB"
   ]
  },
  {
   "cell_type": "code",
   "execution_count": 50,
   "id": "8d3a72bd",
   "metadata": {},
   "outputs": [],
   "source": [
    "import folium\n",
    "from folium import Choropleth, Circle, Marker, Icon, Map\n",
    "from folium.plugins import HeatMap, MarkerCluster"
   ]
  },
  {
   "cell_type": "code",
   "execution_count": 20,
   "id": "d3261f00",
   "metadata": {},
   "outputs": [],
   "source": [
    "import pymongo\n",
    "client = pymongo.MongoClient(\"localhost:27017\")\n",
    "db = client[\"Ironhack\"]\n",
    "c = db.get_collection(\"companies\")"
   ]
  },
  {
   "cell_type": "code",
   "execution_count": 21,
   "id": "4205b377",
   "metadata": {},
   "outputs": [],
   "source": [
    "def requests_for_foursquare (query, lat, lon, radius=500, limit=50):\n",
    "\n",
    "    url = f\"https://api.foursquare.com/v3/places/search?query={query}&ll={lat}%2C{lon}&radius={radius}&limit={limit}&sort=DISTANCE\"\n",
    "\n",
    "    headers = {\n",
    "        \"accept\": \"application/json\",\n",
    "        \"Authorization\": token}\n",
    "    \n",
    "    try:\n",
    "        return requests.get(url, headers=headers).json()\n",
    "    except:\n",
    "        print(\"no :(\")"
   ]
  },
  {
   "cell_type": "code",
   "execution_count": 34,
   "id": "84833508",
   "metadata": {},
   "outputs": [],
   "source": [
    "def extracting_from_one_element (one_venue):\n",
    "\n",
    "    name = one_venue[\"name\"]\n",
    "    distance = one_venue[\"distance\"]\n",
    "    lat = one_venue[\"geocodes\"][\"main\"][\"latitude\"]\n",
    "    lon = one_venue[\"geocodes\"][\"main\"][\"longitude\"]\n",
    "    \n",
    "    small_dict = {\n",
    "    \"name\": name,\n",
    "    \"distance\": distance,\n",
    "    \"location\": [lat,lon]\n",
    "}\n",
    "    return small_dict"
   ]
  },
  {
   "cell_type": "code",
   "execution_count": 35,
   "id": "658ff2f8",
   "metadata": {},
   "outputs": [],
   "source": [
    "def transform_request_into_df (res):\n",
    "    list_of_dictionaries = [extracting_from_one_element (element) for element in res[\"results\"]]\n",
    "    return pd.DataFrame(list_of_dictionaries)"
   ]
  },
  {
   "cell_type": "code",
   "execution_count": 36,
   "id": "743c6966",
   "metadata": {},
   "outputs": [],
   "source": [
    "playfish_lat = 51.539778\n",
    "playfish_long = -0.152998\n",
    "\n",
    "worldtv_lat = 51.500152 \n",
    "worldtv_long = -0.126236\n",
    "\n",
    "pikum_lat = 51.499109 \n",
    "pikum_long = -0.198480"
   ]
  },
  {
   "cell_type": "code",
   "execution_count": 37,
   "id": "b9abb698",
   "metadata": {},
   "outputs": [],
   "source": [
    "def request_to_df (venue):\n",
    "    pikum = requests_for_foursquare (venue, pikum_lat, pikum_long, radius=1000, limit=50)\n",
    "    df_pikum = transform_request_into_df (pikum)\n",
    "\n",
    "    worldtv = requests_for_foursquare (venue, worldtv_lat, worldtv_long, radius=1000, limit=50)\n",
    "    df_worldtv = transform_request_into_df (worldtv)\n",
    "\n",
    "    playfish = requests_for_foursquare (venue, playfish_lat, playfish_long, radius=1000, limit=50)\n",
    "    df_playfish = transform_request_into_df (playfish)\n",
    "    \n",
    "    merged_df = pd.concat([df_pikum, df_worldtv, df_playfish]).reset_index(drop=True)\n",
    "    \n",
    "    return merged_df"
   ]
  },
  {
   "cell_type": "code",
   "execution_count": 38,
   "id": "96624120",
   "metadata": {},
   "outputs": [],
   "source": [
    "def df_to_json (df,file_name):\n",
    "    json_file = df.to_json(f'data/{file_name}.json', orient='records')\n",
    "    return json_file"
   ]
  },
  {
   "cell_type": "code",
   "execution_count": 39,
   "id": "8445b13c",
   "metadata": {},
   "outputs": [],
   "source": [
    "def import_mongo (file_name,collection_name):\n",
    "    client = pymongo.MongoClient(\"localhost:27017\")\n",
    "    db = client[\"Ironhack\"]\n",
    "    c = db.get_collection(f'{collection_name}')\n",
    "    venues = pd.read_json(f'data/{file_name}.json').to_dict(orient='records')\n",
    "    c.insert_many(venues)"
   ]
  },
  {
   "cell_type": "code",
   "execution_count": 40,
   "id": "4f557060",
   "metadata": {},
   "outputs": [],
   "source": [
    "starbucks = request_to_df (\"starbucks\")\n",
    "starbucks_json = df_to_json (starbucks,\"london_starbucks\")\n",
    "import_mongo (\"london_starbucks\",\"london_starbucks\")"
   ]
  },
  {
   "cell_type": "code",
   "execution_count": 41,
   "id": "4abdcaf7",
   "metadata": {},
   "outputs": [],
   "source": [
    "schools = request_to_df (\"school\")\n",
    "school_json = df_to_json (schools,\"london_schools\")\n",
    "import_mongo (\"london_schools\",\"london_schools\")"
   ]
  },
  {
   "cell_type": "code",
   "execution_count": 42,
   "id": "4a42adc8",
   "metadata": {},
   "outputs": [],
   "source": [
    "party = request_to_df ((\"bar\",\"club\"))\n",
    "party_json = df_to_json (party,\"london_party\")\n",
    "import_mongo (\"london_party\",\"london_party\")"
   ]
  },
  {
   "cell_type": "code",
   "execution_count": 43,
   "id": "44b35db6",
   "metadata": {},
   "outputs": [],
   "source": [
    "vegans = request_to_df (\"vegan restaurant\")\n",
    "party_json = df_to_json (vegans,\"london_vegans\")\n",
    "import_mongo (\"london_vegans\",\"london_vegans\")"
   ]
  },
  {
   "cell_type": "code",
   "execution_count": 44,
   "id": "e5749c89",
   "metadata": {},
   "outputs": [],
   "source": [
    "dog_saloons = request_to_df (\"dog saloon\")\n",
    "dog_json = df_to_json (dog_saloons,\"london_dogsaloons\")\n",
    "import_mongo = (\"london_dogsaloons\", \"longon_dogsaloons\")"
   ]
  },
  {
   "cell_type": "code",
   "execution_count": 45,
   "id": "1f78a8b9",
   "metadata": {},
   "outputs": [
    {
     "data": {
      "text/plain": [
       "InsertManyResult([ObjectId('654922b03542e5bc8ead3fa3'), ObjectId('654922b03542e5bc8ead3fa4'), ObjectId('654922b03542e5bc8ead3fa5'), ObjectId('654922b03542e5bc8ead3fa6')], acknowledged=True)"
      ]
     },
     "execution_count": 45,
     "metadata": {},
     "output_type": "execute_result"
    }
   ],
   "source": [
    "#Basketball stadium (10 km)\n",
    "\n",
    "pikum = requests_for_foursquare (\"basketball stadium\", pikum_lat, pikum_long, radius=10000, limit=10)\n",
    "df_pikum = transform_request_into_df (pikum)\n",
    "\n",
    "worldtv = requests_for_foursquare (\"basketball stadium\", worldtv_lat, worldtv_long, radius=10000, limit=10)\n",
    "df_worldtv = transform_request_into_df (worldtv)\n",
    "\n",
    "playfish = requests_for_foursquare (\"basketball stadium\", playfish_lat, playfish_long, radius=10000, limit=10)\n",
    "df_playfish = transform_request_into_df (playfish)\n",
    "\n",
    "basketball_stadiums = pd.concat([df_pikum, df_worldtv, df_playfish]).reset_index(drop=True)\n",
    "\n",
    "basketball_json = basketball_stadiums.to_json(f'data/basketball_stadium.json', orient='records')\n",
    "\n",
    "c = db.get_collection(f'london_basketball')\n",
    "venues = pd.read_json(f'data/basketball_stadium.json').to_dict(orient='records')\n",
    "c.insert_many(venues)"
   ]
  },
  {
   "cell_type": "code",
   "execution_count": 46,
   "id": "8a15189c",
   "metadata": {},
   "outputs": [],
   "source": [
    "#Working with geojson"
   ]
  },
  {
   "cell_type": "code",
   "execution_count": 47,
   "id": "5056f69e",
   "metadata": {},
   "outputs": [
    {
     "data": {
      "text/plain": [
       "'\\nnew_list = []\\nfor i in london:\\n    new_dict = {\\n        \"name\": i[\"properties\"][\"name\"],\\n        \"geo\": {\"type\": \"Polygon\", \\n                 \"coordinates\": i[\"geometry\"][\"coordinates\"][0]\\n                }\\n    }\\n    new_list.append(new_dict)\\nnew_list\\n'"
      ]
     },
     "execution_count": 47,
     "metadata": {},
     "output_type": "execute_result"
    }
   ],
   "source": [
    "\"\"\"\n",
    "new_list = []\n",
    "for i in london:\n",
    "    new_dict = {\n",
    "        \"name\": i[\"properties\"][\"name\"],\n",
    "        \"geo\": {\"type\": \"Polygon\", \n",
    "                 \"coordinates\": i[\"geometry\"][\"coordinates\"][0]\n",
    "                }\n",
    "    }\n",
    "    new_list.append(new_dict)\n",
    "new_list\n",
    "\"\"\""
   ]
  },
  {
   "cell_type": "code",
   "execution_count": 48,
   "id": "7449a2c0",
   "metadata": {},
   "outputs": [],
   "source": [
    "from pymongo import MongoClient"
   ]
  },
  {
   "cell_type": "code",
   "execution_count": 49,
   "id": "114e6f26",
   "metadata": {},
   "outputs": [
    {
     "ename": "NameError",
     "evalue": "name 'london' is not defined",
     "output_type": "error",
     "traceback": [
      "\u001b[1;31m---------------------------------------------------------------------------\u001b[0m",
      "\u001b[1;31mNameError\u001b[0m                                 Traceback (most recent call last)",
      "Cell \u001b[1;32mIn[49], line 2\u001b[0m\n\u001b[0;32m      1\u001b[0m \u001b[38;5;66;03m#london is the downloaded geojson (https://github.com/natzar/European-Neighborhoods-Json-Coords/blob/master/london.json)\u001b[39;00m\n\u001b[1;32m----> 2\u001b[0m \u001b[43mlondon\u001b[49m[\u001b[38;5;241m0\u001b[39m]\n\u001b[0;32m      3\u001b[0m \u001b[38;5;28;01mfor\u001b[39;00m i \u001b[38;5;129;01min\u001b[39;00m london:\n\u001b[0;32m      4\u001b[0m     i[\u001b[38;5;124m'\u001b[39m\u001b[38;5;124mgeometry\u001b[39m\u001b[38;5;124m'\u001b[39m][\u001b[38;5;124m'\u001b[39m\u001b[38;5;124mcoordinates\u001b[39m\u001b[38;5;124m'\u001b[39m][\u001b[38;5;241m0\u001b[39m]\u001b[38;5;241m.\u001b[39mappend(i[\u001b[38;5;124m'\u001b[39m\u001b[38;5;124mgeometry\u001b[39m\u001b[38;5;124m'\u001b[39m][\u001b[38;5;124m'\u001b[39m\u001b[38;5;124mcoordinates\u001b[39m\u001b[38;5;124m'\u001b[39m][\u001b[38;5;241m0\u001b[39m][\u001b[38;5;241m0\u001b[39m])\n",
      "\u001b[1;31mNameError\u001b[0m: name 'london' is not defined"
     ]
    }
   ],
   "source": [
    "#london is the downloaded geojson (https://github.com/natzar/European-Neighborhoods-Json-Coords/blob/master/london.json)\n",
    "london[0]\n",
    "for i in london:\n",
    "    i['geometry']['coordinates'][0].append(i['geometry']['coordinates'][0][0])"
   ]
  },
  {
   "cell_type": "code",
   "execution_count": null,
   "id": "63ab5df2",
   "metadata": {
    "scrolled": false
   },
   "outputs": [],
   "source": [
    "client = MongoClient(\"localhost:27017\")\n",
    "db = client[\"Ironhack\"]\n",
    "c = db.get_collection(\"londonneigh\")\n",
    "\n",
    "for i in london:\n",
    "    c.insert_one(i)"
   ]
  },
  {
   "cell_type": "code",
   "execution_count": null,
   "id": "079f8cf1",
   "metadata": {},
   "outputs": [],
   "source": []
  }
 ],
 "metadata": {
  "kernelspec": {
   "display_name": "ironhack",
   "language": "python",
   "name": "ironhack"
  },
  "language_info": {
   "codemirror_mode": {
    "name": "ipython",
    "version": 3
   },
   "file_extension": ".py",
   "mimetype": "text/x-python",
   "name": "python",
   "nbconvert_exporter": "python",
   "pygments_lexer": "ipython3",
   "version": "3.11.5"
  }
 },
 "nbformat": 4,
 "nbformat_minor": 5
}
