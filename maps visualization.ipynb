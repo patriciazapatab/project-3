{
 "cells": [
  {
   "cell_type": "code",
   "execution_count": null,
   "id": "035d0081",
   "metadata": {},
   "outputs": [],
   "source": [
    "import pandas as pd\n",
    "\n",
    "import pymongo\n",
    "client = pymongo.MongoClient(\"localhost:27017\")\n",
    "db = client[\"Ironhack\"]"
   ]
  },
  {
   "cell_type": "code",
   "execution_count": null,
   "id": "d4355f73",
   "metadata": {},
   "outputs": [],
   "source": []
  },
  {
   "cell_type": "code",
   "execution_count": null,
   "id": "b51ec068",
   "metadata": {},
   "outputs": [],
   "source": []
  },
  {
   "cell_type": "code",
   "execution_count": null,
   "id": "f755d1bc",
   "metadata": {},
   "outputs": [],
   "source": []
  },
  {
   "cell_type": "code",
   "execution_count": null,
   "id": "b457fc1d",
   "metadata": {},
   "outputs": [],
   "source": [
    "def build_map(df, type, map):\n",
    "    for _, row in df.iterrows():\n",
    "        if type == 'starbucks':\n",
    "            icon = folium.Icon(\n",
    "                color = \"darkgreen\",\n",
    "                icon_color = \"white\",\n",
    "                icon = \"fa-coffee\",\n",
    "                prefix = \"fa\",\n",
    "            )\n",
    "        if type == 'startup':\n",
    "            icon = folium.Icon(\n",
    "                color = \"darkblue\",\n",
    "                icon_color = \"white\",\n",
    "                icon = \"fa-building\",\n",
    "                prefix = \"fa\",\n",
    "            )\n",
    "        if type == 'club':\n",
    "            icon = folium.Icon(\n",
    "                color = \"black\",\n",
    "                icon_color = \"white\",\n",
    "                icon = \"fa-beer\",\n",
    "                prefix = \"fa\",\n",
    "            )\n",
    "        if type == 'airport':\n",
    "            icon = folium.Icon(\n",
    "                color = \"orange\",\n",
    "                icon_color = \"white\",\n",
    "                icon = \"fa-paper-plane\",\n",
    "                prefix = \"fa\",\n",
    "            )\n",
    "        if type == 'school':\n",
    "            icon = folium.Icon(\n",
    "                color = \"lightred\",\n",
    "                icon_color = \"white\",\n",
    "                icon = \"fa-graduation-cap\",\n",
    "                prefix = \"fa\",\n",
    "            )\n",
    "        \n",
    "        new_marker = folium.Marker(location = [row[\"lat\"], row[\"lon\"]], icon=icon)\n",
    "        new_marker.add_to(map)\n",
    "    return map"
   ]
  }
 ],
 "metadata": {
  "kernelspec": {
   "display_name": "ironhack",
   "language": "python",
   "name": "ironhack"
  },
  "language_info": {
   "codemirror_mode": {
    "name": "ipython",
    "version": 3
   },
   "file_extension": ".py",
   "mimetype": "text/x-python",
   "name": "python",
   "nbconvert_exporter": "python",
   "pygments_lexer": "ipython3",
   "version": "3.11.5"
  }
 },
 "nbformat": 4,
 "nbformat_minor": 5
}
